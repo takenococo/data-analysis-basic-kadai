{
  "nbformat": 4,
  "nbformat_minor": 0,
  "metadata": {
    "colab": {
      "provenance": []
    },
    "kernelspec": {
      "name": "python3",
      "display_name": "Python 3"
    },
    "language_info": {
      "name": "python"
    }
  },
  "cells": [
    {
      "cell_type": "code",
      "source": [
        "import numpy as np\n",
        "\n",
        "A = np.array([[0, 1], [2, 3], [4, 5]])\n",
        "B = np.array([[0, 1, 2, 3], [4, 5, 6, 7]])\n",
        "\n",
        "# 行列Aと行列Bの内積を計算\n",
        "result = np.dot(A, B)\n",
        "\n",
        "# 最大値を求める\n",
        "max_value = np.max(result)\n",
        "\n",
        "print(\"行列Aと行列Bの内積:\")\n",
        "print(result)\n",
        "print(\"最大値:\", max_value)\n",
        "\n"
      ],
      "metadata": {
        "colab": {
          "base_uri": "https://localhost:8080/"
        },
        "id": "4cM6jZpIXGOu",
        "outputId": "8e9ab380-79c7-4bc4-c43a-df0e1453eb37"
      },
      "execution_count": 25,
      "outputs": [
        {
          "output_type": "stream",
          "name": "stdout",
          "text": [
            "行列Aと行列Bの内積:\n",
            "[[ 4  5  6  7]\n",
            " [12 17 22 27]\n",
            " [20 29 38 47]]\n",
            "最大値: 47\n"
          ]
        }
      ]
    },
    {
      "cell_type": "code",
      "source": [],
      "metadata": {
        "id": "G1qqAKcIXHmn"
      },
      "execution_count": null,
      "outputs": []
    }
  ]
}